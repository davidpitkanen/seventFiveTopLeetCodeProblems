{
 "cells": [
  {
   "cell_type": "raw",
   "id": "619fca4e-9f71-4335-bd8e-d1139e65326d",
   "metadata": {},
   "source": [
    "This is the famous two sum problem.\n",
    "Input: An array of integers, A and a target number t\n",
    "Output: indices of the two integers that add to make the number t"
   ]
  },
  {
   "cell_type": "raw",
   "id": "2a661303-f1e3-4e6f-870f-2cc4cb1b1f99",
   "metadata": {},
   "source": [
    "Step 1: Create a function that generates a list containing t and A. Randomly"
   ]
  },
  {
   "cell_type": "code",
   "execution_count": 9,
   "id": "11bfb50e-3a81-4f5f-89e3-53790ad600a9",
   "metadata": {},
   "outputs": [
    {
     "name": "stdout",
     "output_type": "stream",
     "text": [
      "2\n"
     ]
    }
   ],
   "source": [
    "import random\n",
    "\n",
    "print(random.randint(2,5))\n",
    "\n",
    "\n",
    "def generateRandomMatrix(n):\n",
    "    data = [random.randint(1, 100) for _ in range(n)]\n",
    "    return data\n",
    "\n",
    "def setIndicesOfSolution(A):\n",
    "    n = len(A)\n",
    "    index1 = random.randint(0,n/2)\n",
    "    index2 = index1 + random.randint(1,n/2)\n",
    "    t = A[index1] + A[index2]\n",
    "    return t, index1, index2"
   ]
  },
  {
   "cell_type": "raw",
   "id": "67b69b14-c208-4166-9994-1a9175948a30",
   "metadata": {},
   "source": [
    "The main idea for this algorithm is to create a lookUp table.  Store the value t - A[h] as a key\n",
    "for each h.  Then scan through the values of h and check to see if it's in the lookUp table.  If it's there\n",
    "then return the two indices."
   ]
  },
  {
   "cell_type": "code",
   "execution_count": 13,
   "id": "75cdde7e-cbcb-4a89-aec8-4a6c2d4fe261",
   "metadata": {},
   "outputs": [],
   "source": [
    "A = generateRandomMatrix(20)\n",
    "t, answer1, answer2 = setIndicesOfSolution(A)\n",
    "\n",
    "def twoSumProblemSolution(A, t):\n",
    "    lookUp = {t - A[h]: h for h in range(len(A)) }\n",
    "    for i in range(len(A)):\n",
    "        if A[i] in lookUp:\n",
    "            return i, lookUp[A[i]]\n",
    "    return -1, -1"
   ]
  },
  {
   "cell_type": "code",
   "execution_count": 16,
   "id": "b14d488c-2a6a-4f33-a1c9-06e17572300d",
   "metadata": {},
   "outputs": [
    {
     "name": "stdout",
     "output_type": "stream",
     "text": [
      "(0, 9)\n",
      "0 9\n"
     ]
    }
   ],
   "source": [
    "print(twoSumProblemSolution(A, t))\n",
    "print(answer1, answer2)"
   ]
  },
  {
   "cell_type": "code",
   "execution_count": null,
   "id": "b2e16444-675f-46dc-aa19-d9b05da9bfbf",
   "metadata": {},
   "outputs": [],
   "source": []
  }
 ],
 "metadata": {
  "kernelspec": {
   "display_name": "Python 3 (ipykernel)",
   "language": "python",
   "name": "python3"
  },
  "language_info": {
   "codemirror_mode": {
    "name": "ipython",
    "version": 3
   },
   "file_extension": ".py",
   "mimetype": "text/x-python",
   "name": "python",
   "nbconvert_exporter": "python",
   "pygments_lexer": "ipython3",
   "version": "3.9.10"
  }
 },
 "nbformat": 4,
 "nbformat_minor": 5
}

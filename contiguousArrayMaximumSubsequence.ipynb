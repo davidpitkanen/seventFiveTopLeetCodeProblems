{
 "cells": [
  {
   "cell_type": "raw",
   "id": "017a5194-b370-4e89-ad8b-cb5dcc1b457a",
   "metadata": {},
   "source": [
    "Input: Array of prices\n",
    "Output: two indices for the buy and sell date that maximize the profit"
   ]
  },
  {
   "cell_type": "code",
   "execution_count": 4,
   "id": "6e9fbda7-e0df-4e91-aa4b-6ebaf0c953fd",
   "metadata": {},
   "outputs": [],
   "source": [
    "import random\n",
    "\n",
    "def createPricingData(n, mu, sigma):\n",
    "    counter = 0.0\n",
    "    return [counter + random.gauss(mu, sigma) for x in range(n)]"
   ]
  },
  {
   "cell_type": "code",
   "execution_count": 9,
   "id": "759862d7-78c1-45ba-b303-b93297e5fe66",
   "metadata": {},
   "outputs": [
    {
     "name": "stdout",
     "output_type": "stream",
     "text": [
      "[7.600551800773209, 6.865839389942202, 3.561885298892538, 7.265203103927326, 5.388739938664908, 1.7207281275340072, 4.497463345443371, 4.771340992307253, 4.855681232284176, 8.103242969694897, 5.296056387239163, 4.957101960534944, 6.438619608429848, 4.609557439209047, 2.787163251739383, 1.4256810129987145, 5.918477146534787, 5.563463962961696, 4.142777468948137, 2.7341986604499846, 4.147146867777632, 7.180827792862518, 1.5450870261841416, 2.1611945985522665, 3.227868107039835, 6.47988255073333, 5.651620506395716, 7.4261158998670815, 4.872285072806184, 5.771120247325264, 5.465842161667744, 7.265547763926757, 5.701003782498394, 6.02600466315571, 1.316262233470464, 6.152182972067639, 3.64806481727024, 9.888065607362288, 4.623731079656784, 5.6932428771617865, 5.827896953024708, 2.2010578614448435, 2.6636774318750382, 4.670588267303528, 3.9479823269416454, 6.7250137853874214, 4.699955266090863, 7.710905433804946, 4.775113067093661, 2.813114784181815, 6.150210468534708, -0.8398545325373963, 9.017977652424518, 4.32608339930389, 5.6445522217817246, 4.2343113437472715, 4.311594829109908, 7.837580457814482, 7.317206794176792, 7.7709730654532425, 3.8498854608304227, 4.6285718767700414, 2.340793830103524, 5.693616458935238, 3.322641934534461, 6.757125131738274, -0.4031197771657187, 7.084508246465337, 3.1216194762737492, 5.122845643355293, 5.658057853555478, 5.003220721923664, 2.0045313243000313, 5.013805340704251, 7.347274844002309, 2.536167397194586, 2.570504754136851, 7.642562106750501, 3.070833533530707, 4.943921734663704, 3.067282752907711, 5.926758920437396, 6.002937053793412, 4.280213434031579, 4.51119731895816, 3.849084766757131, 6.132644469261593, 3.9335288411143585, 6.233206999132114, 4.377881436640624, 3.033303392620825, 8.03707950882061, 6.589955206655655, 3.569778385123132, 6.624726127095644, 4.252498666915608, 4.779856315494948, 7.275848997279161, 4.498213314100366, 6.547948918302515]\n"
     ]
    }
   ],
   "source": [
    "averagePriceChange = 5\n",
    "standardDeviation = 2\n",
    "p = createPricingData(100, averagePriceChange, standardDeviation)\n",
    "print(p)"
   ]
  },
  {
   "cell_type": "raw",
   "id": "09605832-f26e-46d8-8ff9-3e6364d07713",
   "metadata": {},
   "source": [
    "Let A[i,j] be the profit from buying on day i and selling on day j.  Then you want to find the maximum value over i and j.\n",
    "The problem brute force is n^2.  \n",
    "\n",
    "One solution to this would be a divide and conquer algorithm."
   ]
  },
  {
   "cell_type": "code",
   "execution_count": 19,
   "id": "98c39530-99c7-44c7-894f-70c96ea1dbb1",
   "metadata": {},
   "outputs": [
    {
     "name": "stdout",
     "output_type": "stream",
     "text": [
      "(51, 52, 9.857832184961914)\n",
      "51 52 2.86776718388981\n"
     ]
    }
   ],
   "source": [
    "def calculateProfitHistory(p):\n",
    "    length = len(p)\n",
    "    return [p[i]-p[i-1] for i in range(1,length)]\n",
    "\n",
    "def greedySolution(p):\n",
    "    profitData = calculateProfitHistory(p)\n",
    "    currentProfit = 0\n",
    "    currentStartIndex = 0\n",
    "    \n",
    "    maxProfitSoFarIndex = 0\n",
    "    maxProfitSoFarEndIndex = 0\n",
    "    maximumProfitSoFar = 0\n",
    "    \n",
    "    \n",
    "    for t in range(len(profitData)):\n",
    "        if currentProfit == 0 and profitData[t] < 0:\n",
    "            currentStartIndex = t + 1\n",
    "            continue\n",
    "        \n",
    "        currentProfit += profitData[t]\n",
    "        \n",
    "        if currentProfit < 0:\n",
    "            currentStartIndex = t+1\n",
    "            currentProfit = 0\n",
    "        elif currentProfit > maximumProfitSoFar:\n",
    "            maximumProfitSoFar = currentProfit\n",
    "            maxProfitSoFarIndex = currentStartIndex\n",
    "            maxProfitSoFarEndIndex = t + 1\n",
    "    return maxProfitSoFarIndex, maxProfitSoFarEndIndex, maximumProfitSoFar\n",
    "\n",
    "solution = greedySolution(p)\n",
    "print(solution)\n",
    "startIndex = solution[0]\n",
    "endIndex = solution[1]\n",
    "profit = p[endIndex] - p[startIndex-1]\n",
    "print(startIndex, endIndex, profit)\n",
    "        "
   ]
  },
  {
   "cell_type": "code",
   "execution_count": null,
   "id": "22b3965c-c73b-4b87-a9a8-c49b4e767f50",
   "metadata": {},
   "outputs": [],
   "source": []
  }
 ],
 "metadata": {
  "kernelspec": {
   "display_name": "Python 3 (ipykernel)",
   "language": "python",
   "name": "python3"
  },
  "language_info": {
   "codemirror_mode": {
    "name": "ipython",
    "version": 3
   },
   "file_extension": ".py",
   "mimetype": "text/x-python",
   "name": "python",
   "nbconvert_exporter": "python",
   "pygments_lexer": "ipython3",
   "version": "3.9.10"
  }
 },
 "nbformat": 4,
 "nbformat_minor": 5
}

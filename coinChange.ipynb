{
 "cells": [
  {
   "cell_type": "raw",
   "id": "a3579c68-0d8e-4087-9d39-cd9cb9b238a2",
   "metadata": {},
   "source": [
    "Input is an array of coin values and a value\n",
    "Output is the minimum number of coins required to make the change for the value"
   ]
  },
  {
   "cell_type": "raw",
   "id": "73df7888-8052-45af-b5dc-de8867898905",
   "metadata": {},
   "source": [
    "This is a dynamic programming problem. If c[i] is the min number of coins required to make change for the value i\n",
    "\n",
    "then c[i+1] = min_over_all_coins_j( c[i-A[j]] + 1)"
   ]
  },
  {
   "cell_type": "code",
   "execution_count": 3,
   "id": "6f23ec8b-fbc6-4d0b-b12a-75b87c39829a",
   "metadata": {},
   "outputs": [
    {
     "name": "stdout",
     "output_type": "stream",
     "text": [
      "0\n",
      "1\n",
      "2\n",
      "3\n",
      "4\n",
      "5\n",
      "6\n",
      "7\n",
      "8\n",
      "9\n",
      "10\n"
     ]
    }
   ],
   "source": [
    "coins = [1,2, 5,7, 10, 25, 100]\n",
    "\n",
    "def calculateMinCoins(coins, value):\n",
    "    c = [0]* (value + 1)\n",
    "    for i in range(value +1):\n",
    "        total = 0\n",
    "        for x in coins:\n",
    "            min_so_far = 0\n",
    "            i - x > 0:\n",
    "                total = total + c[x]\n",
    "                \n",
    "        \n",
    "calculateMinCoins(coins, 10)"
   ]
  },
  {
   "cell_type": "code",
   "execution_count": null,
   "id": "1293c36b-3897-4bc8-8d03-75d3ee40614a",
   "metadata": {},
   "outputs": [],
   "source": []
  }
 ],
 "metadata": {
  "kernelspec": {
   "display_name": "Python 3 (ipykernel)",
   "language": "python",
   "name": "python3"
  },
  "language_info": {
   "codemirror_mode": {
    "name": "ipython",
    "version": 3
   },
   "file_extension": ".py",
   "mimetype": "text/x-python",
   "name": "python",
   "nbconvert_exporter": "python",
   "pygments_lexer": "ipython3",
   "version": "3.9.10"
  }
 },
 "nbformat": 4,
 "nbformat_minor": 5
}

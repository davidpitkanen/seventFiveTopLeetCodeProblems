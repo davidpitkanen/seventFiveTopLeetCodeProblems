{
 "cells": [
  {
   "cell_type": "raw",
   "id": "108b9d07-e0c6-4c2b-ad3d-85e92a7e6036",
   "metadata": {},
   "source": [
    "Given two integers calculate their sum without using the + and - operators.\n",
    "\n",
    "This is a binary problem."
   ]
  },
  {
   "cell_type": "code",
   "execution_count": 16,
   "id": "2e7cd347-d3c5-4169-915e-87227441bb12",
   "metadata": {},
   "outputs": [],
   "source": [
    "import math\n",
    "\n",
    "def convertToBinary(x):\n",
    "    output = ''\n",
    "    i = 2\n",
    "    while True:\n",
    "        if x % 2 == 1:\n",
    "            output = \"1\" + output\n",
    "        else:\n",
    "            output = \"0\" + output\n",
    "        if x == 0:\n",
    "            break\n",
    "        x = x // 2\n",
    "    return output\n",
    "\n",
    "def binaryToNumber(x):\n",
    "    "
   ]
  },
  {
   "cell_type": "code",
   "execution_count": null,
   "id": "e544077e-7e94-4947-a20e-dba112a0c090",
   "metadata": {},
   "outputs": [],
   "source": [
    "def sumTwoNumbers(x, y):\n",
    "    b1 = convertToBinary(x)\n",
    "    b2 = convertToBinary(y)\n",
    "    \n",
    "    "
   ]
  }
 ],
 "metadata": {
  "kernelspec": {
   "display_name": "Python 3 (ipykernel)",
   "language": "python",
   "name": "python3"
  },
  "language_info": {
   "codemirror_mode": {
    "name": "ipython",
    "version": 3
   },
   "file_extension": ".py",
   "mimetype": "text/x-python",
   "name": "python",
   "nbconvert_exporter": "python",
   "pygments_lexer": "ipython3",
   "version": "3.9.10"
  }
 },
 "nbformat": 4,
 "nbformat_minor": 5
}

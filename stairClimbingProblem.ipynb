{
 "cells": [
  {
   "cell_type": "raw",
   "id": "58be6381-3ad5-40cc-8868-e22c9f22a5a5",
   "metadata": {},
   "source": [
    "If you can take 1 or two steps calculate the number of ways to walk up a set of stairs if on each step you take either 1 or 2 steps."
   ]
  },
  {
   "cell_type": "raw",
   "id": "c31b4acf-6614-4cce-aaab-b50b6027df0c",
   "metadata": {},
   "source": [
    "This seems like a dynamic programming problem\n",
    "\n",
    "c_i = c_{i-1} + 2* c_{i-2}"
   ]
  },
  {
   "cell_type": "code",
   "execution_count": 9,
   "id": "31459438-441b-44be-9fff-15e1a5d8eec8",
   "metadata": {},
   "outputs": [
    {
     "name": "stdout",
     "output_type": "stream",
     "text": [
      "[0, 1, 2, 3, 5]\n",
      "5\n"
     ]
    }
   ],
   "source": [
    "\n",
    "def calculateClimbingPossibilities(n):\n",
    "    c = [0]*(n + 1)\n",
    "    c[0] = 0\n",
    "    c[1] = 1\n",
    "    c[2] = 2\n",
    "    for i in range(3, n+1):\n",
    "        c[i] = c[i-1] + c[i-2]\n",
    "    print(c)\n",
    "    return c[n]\n",
    "\n",
    "print(calculateClimbingPossibilities(4))"
   ]
  },
  {
   "cell_type": "code",
   "execution_count": null,
   "id": "ef37acb8-96ce-43fa-bd82-c0c30d3f3bf5",
   "metadata": {},
   "outputs": [],
   "source": []
  }
 ],
 "metadata": {
  "kernelspec": {
   "display_name": "Python 3 (ipykernel)",
   "language": "python",
   "name": "python3"
  },
  "language_info": {
   "codemirror_mode": {
    "name": "ipython",
    "version": 3
   },
   "file_extension": ".py",
   "mimetype": "text/x-python",
   "name": "python",
   "nbconvert_exporter": "python",
   "pygments_lexer": "ipython3",
   "version": "3.9.10"
  }
 },
 "nbformat": 4,
 "nbformat_minor": 5
}
